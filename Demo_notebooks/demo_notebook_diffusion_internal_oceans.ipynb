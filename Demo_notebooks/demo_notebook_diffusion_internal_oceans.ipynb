{
 "cells": [
  {
   "cell_type": "markdown",
   "metadata": {},
   "source": [
    "# Demo Notebook\n",
    "\n",
    "Demo notebook showing how to find internal oceans and diffusive cells"
   ]
  },
  {
   "cell_type": "code",
   "execution_count": null,
   "metadata": {},
   "outputs": [],
   "source": [
    "import xarray as xr\n",
    "import numpy\n",
    "\n",
    "import hvplot.xarray\n",
    "\n",
    "import holoviews as hv\n",
    "\n",
    "from scipy.ndimage import measurements\n",
    "from scipy.signal import convolve2d"
   ]
  },
  {
   "cell_type": "code",
   "execution_count": null,
   "metadata": {},
   "outputs": [],
   "source": [
    "ds = xr.open_dataset(\"/home/wesley/Downloads/ScotMuell30Ma.nc\")\n",
    "ds"
   ]
  },
  {
   "cell_type": "code",
   "execution_count": null,
   "metadata": {},
   "outputs": [],
   "source": [
    "values = ds.ScotMuell31Ma\n",
    "ocean = values < 0\n",
    "ocean.hvplot('lon', 'lat')"
   ]
  },
  {
   "cell_type": "code",
   "execution_count": null,
   "metadata": {},
   "outputs": [],
   "source": [
    "labeled_array, num_features = measurements.label(ocean)\n",
    "\n",
    "# Replace continents with numpy.NaN\n",
    "labeled_array = labeled_array.astype(object)\n",
    "labeled_array[labeled_array==0] = numpy.NaN\n",
    "\n",
    "# Draw\n",
    "hv.Image(labeled_array).opts(tools=['hover'], width = 600).opts(clipping_colors = {'min': 'grey', 'max': 'black'})"
   ]
  },
  {
   "cell_type": "code",
   "execution_count": null,
   "metadata": {},
   "outputs": [],
   "source": [
    "# Define template we are looking for passages\n",
    "# Where only diffusion occurs this means we are looking\n",
    "# for ocean passages one in width/height\n",
    "# 1 => Ocean\n",
    "# -1 => Land\n",
    "# 0 = Indifferent\n",
    "template = numpy.array([[0, 1, 0], \n",
    "                        [-1,1,-1], \n",
    "                        [0, 1, 0]])\n",
    "\n",
    "# Theoretical max value when the template is found\n",
    "# Note that 0s are considered wildcards so they are not taken into\n",
    "# Account \n",
    "#TODO this only works on data arrays where the absolute values are 1\n",
    "perfect_match = numpy.sum(numpy.abs(template))\n",
    "\n",
    "# we recode the values of land to -1 as\n",
    "# we did in the template\n",
    "values = ocean.values.astype(int)\n",
    "values[values == 0] = -1\n",
    "\n",
    "# Create an empty array where we are going to stock the values\n",
    "#TODO This could potentially by a binary array??\n",
    "potential_points = numpy.empty(ocean.values.shape)\n",
    "potential_points[:] = numpy.nan\n",
    "\n",
    "# Mark points where there is only diffusion in longitude direction\n",
    "convolvedh = convolve2d(values, template, 'same')\n",
    "potential_points[convolvedh == perfect_match] = 1\n",
    "\n",
    "# Mark points where there is only diffusion in latitude direction\n",
    "convolvedv = convolve2d(values, template.T, 'same')\n",
    "potential_points[convolvedv == perfect_match] = 1\n",
    "\n",
    "hv.Image(potential_points).opts(tools=['hover'], width=400, clipping_colors={'NaN':'gray'}) + hv.Image(values.reshape(*ocean.values.shape)).opts(width=400, tools=['hover'])"
   ]
  },
  {
   "cell_type": "code",
   "execution_count": null,
   "metadata": {},
   "outputs": [],
   "source": []
  },
  {
   "cell_type": "code",
   "execution_count": null,
   "metadata": {},
   "outputs": [],
   "source": []
  },
  {
   "cell_type": "code",
   "execution_count": null,
   "metadata": {},
   "outputs": [],
   "source": [
    "import pandas as pd\n",
    "import holoviews as hv\n",
    "\n",
    "from bokeh.sampledata import stocks\n",
    "from holoviews.operation.timeseries import rolling, rolling_outlier_std\n",
    "\n",
    "hv.extension('bokeh')"
   ]
  },
  {
   "cell_type": "code",
   "execution_count": null,
   "metadata": {},
   "outputs": [],
   "source": [
    "import param\n",
    "import panel as pn\n",
    "\n",
    "variables = ['open', 'high', 'low', 'close', 'volume', 'adj_close']\n",
    "\n",
    "class StockExplorer(param.Parameterized):\n",
    "\n",
    "    rolling_window = param.Integer(default=10, bounds=(1, 365))\n",
    "    \n",
    "    symbol = param.ObjectSelector(default='AAPL', objects=stock_symbols)\n",
    "    \n",
    "    variable = param.ObjectSelector(default='adj_close', objects=variables)\n",
    "\n",
    "    @param.depends('symbol', 'variable')\n",
    "    def load_symbol(self):\n",
    "        df = pd.DataFrame(getattr(stocks, self.symbol))\n",
    "        df['date'] = df.date.astype('datetime64[ns]')\n",
    "        return hv.Curve(df, ('date', 'Date'), self.variable).opts(framewise=True)\n",
    "    \n",
    "    def show(self):\n",
    "        "
   ]
  },
  {
   "cell_type": "code",
   "execution_count": null,
   "metadata": {},
   "outputs": [],
   "source": [
    "from holoviews.operation.datashader import datashade, dynspread\n",
    "from holoviews.selection import link_selections\n",
    "\n",
    "class AdvancedStockExplorer(StockExplorer):    \n",
    "\n",
    "    datashade = param.Boolean(default=False)\n",
    "\n",
    "    @param.depends('datashade')\n",
    "    def view(self):\n",
    "        stocks = hv.DynamicMap(self.load_symbol)\n",
    "\n",
    "        # Apply rolling mean\n",
    "        smoothed = rolling(stocks, rolling_window=self.param.rolling_window)\n",
    "        if self.datashade:\n",
    "            smoothed = dynspread(datashade(smoothed, aggregator='any')).opts(framewise=True)\n",
    "\n",
    "        # Find outliers\n",
    "        outliers = rolling_outlier_std(stocks, rolling_window=self.param.rolling_window).opts(\n",
    "            width=600, color='red', marker='triangle', framewise=True)\n",
    "        return pn.Row(pn.panel(self.param), link_selections(smoothed + outliers))"
   ]
  },
  {
   "cell_type": "code",
   "execution_count": null,
   "metadata": {},
   "outputs": [],
   "source": [
    "explorer = AdvancedStockExplorer()\n",
    "explorer.view()"
   ]
  },
  {
   "cell_type": "code",
   "execution_count": null,
   "metadata": {},
   "outputs": [],
   "source": []
  }
 ],
 "metadata": {
  "kernelspec": {
   "display_name": "Python (python3 pangeo)",
   "language": "python",
   "name": "jupyter"
  },
  "language_info": {
   "codemirror_mode": {
    "name": "ipython",
    "version": 3
   },
   "file_extension": ".py",
   "mimetype": "text/x-python",
   "name": "python",
   "nbconvert_exporter": "python",
   "pygments_lexer": "ipython3",
   "version": "3.8.5"
  }
 },
 "nbformat": 4,
 "nbformat_minor": 4
}
