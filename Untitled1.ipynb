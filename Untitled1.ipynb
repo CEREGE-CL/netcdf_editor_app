{
 "cells": [
  {
   "cell_type": "code",
   "execution_count": null,
   "metadata": {},
   "outputs": [],
   "source": [
    "import xarray as xr\n",
    "import pysheds\n",
    "from pysheds import grid\n",
    "import holoviews as hv\n",
    "from holoviews import opts\n",
    "hv.extension('bokeh', 'matplotlib')\n",
    "opts.defaults(\n",
    "    opts.Image(cmap='Summer', colorbar=True, toolbar='above', tools=['hover'], width=500, height=400))\n",
    "\n",
    "\n",
    "\n",
    "\n",
    "import numpy as np\n",
    "import matplotlib.pyplot as plt\n",
    "import matplotlib.colors as colors\n",
    "from pysheds.grid import Grid\n",
    "# import seaborn as sns\n",
    "import warnings\n",
    "warnings.filterwarnings('ignore')\n",
    "\n",
    "%matplotlib inline\n",
    "\n"
   ]
  },
  {
   "cell_type": "code",
   "execution_count": null,
   "metadata": {},
   "outputs": [],
   "source": [
    "ds = xr.open_dataset('/home/wesley/Downloads/ScotMuell30Ma.nc')\n",
    "ds"
   ]
  },
  {
   "cell_type": "code",
   "execution_count": null,
   "metadata": {},
   "outputs": [],
   "source": [
    "import numpy as np\n",
    "from affine import Affine\n",
    "from scipy.ndimage import gaussian_filter\n",
    "import matplotlib.pyplot as plt\n",
    "from pysheds.grid import Grid\n",
    "\n",
    "# # Create fake DEM with some depressions ranging from\n",
    "# # 10 meters in elevation to 0 meters\n",
    "# np.random.seed(100)\n",
    "# raw = np.random.uniform(size=[200,200])*10\n",
    "# dem = gaussian_filter(raw,sigma=8)\n",
    "\n",
    "dem = ds.ScotMuell31Ma.values\n",
    "\n",
    "affine = Affine(1,0,0,0,1,0)\n",
    "grid = Grid()\n",
    "grid.add_gridded_data(dem,'dem',affine=affine,\n",
    "                     crs={'init':'epsg:32614'})\n",
    "dem_view  = grid.view('dem',apply_mask=False)"
   ]
  },
  {
   "cell_type": "code",
   "execution_count": null,
   "metadata": {},
   "outputs": [],
   "source": [
    "hv.Image(dem_view)"
   ]
  },
  {
   "cell_type": "code",
   "execution_count": null,
   "metadata": {},
   "outputs": [],
   "source": [
    "grid.resolve_flats('dem', out_name='inflated_dem')\n",
    "inflated_view = grid.view('inflated_dem', apply_mask=False)"
   ]
  },
  {
   "cell_type": "code",
   "execution_count": null,
   "metadata": {},
   "outputs": [],
   "source": [
    "hv.Image(inflated_view) * hv.Image(inflated_view != dem_view).opts(cmap='viridis', alpha= 0.5) + hv.Image(dem_view).opts(clim=(7000, 8000)) + hv.Image(inflated_view).opts(clim=(7000, 8000))"
   ]
  },
  {
   "cell_type": "code",
   "execution_count": null,
   "metadata": {},
   "outputs": [],
   "source": [
    "#N    NE    E    SE    S    SW    W    NW\n",
    "dirmap = (64,  128,  1,   2,    4,   8,    16,  32)"
   ]
  },
  {
   "cell_type": "code",
   "execution_count": null,
   "metadata": {},
   "outputs": [],
   "source": [
    "grid.flowdir(data='inflated_dem', out_name='dir', dirmap=dirmap)"
   ]
  },
  {
   "cell_type": "code",
   "execution_count": null,
   "metadata": {},
   "outputs": [],
   "source": [
    "hv.Image(grid.view('dir', apply_mask=False))"
   ]
  },
  {
   "cell_type": "code",
   "execution_count": null,
   "metadata": {},
   "outputs": [],
   "source": [
    "hv.Image(grid.detect_depressions('dem'))"
   ]
  },
  {
   "cell_type": "code",
   "execution_count": null,
   "metadata": {},
   "outputs": [],
   "source": [
    "import numpy as np\n",
    "from scipy.ndimage.filters import maximum_filter\n",
    "from scipy.ndimage.morphology import generate_binary_structure, binary_erosion\n",
    "import matplotlib.pyplot as pp\n",
    "\n",
    "def detect_peaks(image):\n",
    "    \"\"\"\n",
    "    Takes an image and detect the peaks usingthe local maximum filter.\n",
    "    Returns a boolean mask of the peaks (i.e. 1 when\n",
    "    the pixel's value is the neighborhood maximum, 0 otherwise)\n",
    "    \"\"\"\n",
    "\n",
    "    # define an 8-connected neighborhood\n",
    "    neighborhood = generate_binary_structure(2,2)\n",
    "\n",
    "    #apply the local maximum filter; all pixel of maximal value \n",
    "    #in their neighborhood are set to 1\n",
    "    local_max = maximum_filter(image, footprint=neighborhood)==image\n",
    "    #local_max is a mask that contains the peaks we are \n",
    "    #looking for, but also the background.\n",
    "    #In order to isolate the peaks we must remove the background from the mask.\n",
    "\n",
    "    #we create the mask of the background\n",
    "    background = (image==0)\n",
    "\n",
    "    #a little technicality: we must erode the background in order to \n",
    "    #successfully subtract it form local_max, otherwise a line will \n",
    "    #appear along the background border (artifact of the local maximum filter)\n",
    "    eroded_background = binary_erosion(background, structure=neighborhood, border_value=1)\n",
    "\n",
    "    #we obtain the final mask, containing only peaks, \n",
    "    #by removing the background from the local_max mask (xor operation)\n",
    "    detected_peaks = local_max ^ eroded_background\n",
    "\n",
    "    return detected_peaks"
   ]
  },
  {
   "cell_type": "code",
   "execution_count": null,
   "metadata": {},
   "outputs": [],
   "source": [
    "ds['local_mins'] = detect_peaks(ds.ScotMuell31Ma * -1)"
   ]
  },
  {
   "cell_type": "code",
   "execution_count": null,
   "metadata": {},
   "outputs": [],
   "source": [
    "ps = grid.detect_depressions('dem').astype(object)\n",
    "ps[ps==False] = np.NaN\n",
    "\n",
    "me = ds.local_mins.values.astype(object)\n",
    "me[me==False] = np.NaN\n",
    "\n",
    "\n",
    "(hv.Image(me).opts(cmap='viridis', clipping_colors={'NaN': (0,0,0,0)}) * hv.Image(ps).opts(alpha=0.7, clipping_colors={'NaN': (0,0,0,0)}) + hv.Image(grid.detect_depressions('dem').astype(int) + ds.local_mins.values.astype(int)).opts(cmap='jet', clipping_colors={'min': (0,0,0,0)}) + hv.Image(ps) + hv.Image(me) + hv.Image(grid.detect_pits('dem'))).cols(2)"
   ]
  },
  {
   "cell_type": "code",
   "execution_count": null,
   "metadata": {},
   "outputs": [],
   "source": [
    "grid.fill_depressions(data='dem', out_name='flooded_dem')"
   ]
  },
  {
   "cell_type": "code",
   "execution_count": null,
   "metadata": {},
   "outputs": [],
   "source": [
    "hv.Image(grid.view('flooded_dem', apply_mask=False) - grid.view('dem', apply_mask=False)).opts(clim=(0, 5000)) + hv.Image(grid.view('dem', apply_mask=False)).opts(cmap='terrain', symmetric=True) + hv.Image(grid.view('flooded_dem', apply_mask=False)).opts(cmap='terrain', symmetric=True)"
   ]
  },
  {
   "cell_type": "code",
   "execution_count": null,
   "metadata": {},
   "outputs": [],
   "source": [
    "hv.Image(grid.detect_depressions('flooded_dem_dem')).opts(clim=(0,1)) + hv.Image(grid.view('dem', apply_mask=False))"
   ]
  },
  {
   "cell_type": "code",
   "execution_count": null,
   "metadata": {},
   "outputs": [],
   "source": [
    "hv.Image(grid.detect_depressions('flooded_dem_dem'))"
   ]
  },
  {
   "cell_type": "code",
   "execution_count": null,
   "metadata": {},
   "outputs": [],
   "source": [
    "grid.mask = None\n",
    "grid.fill_depressions('dem', 'flooded_dem', apply_mask=True)\n",
    "hv.Image(grid.detect_depressions('flooded_dem')).opts(clim=(0,1)) + hv.Image(grid.view('flooded_dem', apply_mask=True))"
   ]
  },
  {
   "cell_type": "code",
   "execution_count": null,
   "metadata": {},
   "outputs": [],
   "source": [
    "flooded = grid.view('flooded_dem', apply_mask=True)\n"
   ]
  },
  {
   "cell_type": "code",
   "execution_count": null,
   "metadata": {},
   "outputs": [],
   "source": [
    "continents = dem > 0\n",
    "continents"
   ]
  },
  {
   "cell_type": "code",
   "execution_count": null,
   "metadata": {},
   "outputs": [],
   "source": [
    "dem2 = dem.copy()\n",
    "dem2[continents] = 0\n",
    "\n",
    "flooded[~continents] = 0"
   ]
  },
  {
   "cell_type": "code",
   "execution_count": null,
   "metadata": {},
   "outputs": [],
   "source": [
    "grid.add_gridded_data(dem2 + flooded, 'merged')"
   ]
  },
  {
   "cell_type": "code",
   "execution_count": null,
   "metadata": {},
   "outputs": [],
   "source": [
    "hv.Image(grid.detect_depressions('merged')).opts(clim=(0,1)) * hv.Image(continents).opts(alpha = 0.1) + hv.Image(grid.detect_depressions('merged').astype(int) + continents.astype(int)).opts(clim=(1.5, 2))"
   ]
  },
  {
   "cell_type": "code",
   "execution_count": null,
   "metadata": {},
   "outputs": [],
   "source": [
    "hv.Image(grid.detect_depressions('merged').astype(int) + continents.astype(int))"
   ]
  },
  {
   "cell_type": "code",
   "execution_count": null,
   "metadata": {},
   "outputs": [],
   "source": [
    "dem_mask = np.ones(dem.shape, dtype=np.bool)\n",
    "dem_mask"
   ]
  },
  {
   "cell_type": "code",
   "execution_count": null,
   "metadata": {},
   "outputs": [],
   "source": [
    "import skimage\n",
    "dem_mask[0, :] = True\n",
    "dem_mask[-1, :] = True\n",
    "dem_mask[:, 0] = True\n",
    "dem_mask[:, -1] = True\n",
    "# Make sure nothing flows to the nodata cells\n",
    "nanmax = dem[~np.isnan(dem)].max()\n",
    "seed = np.copy(dem)\n",
    "seed[~dem_mask] = nanmax\n",
    "dem_out = skimage.morphology.reconstruction(seed, dem, method='erosion')"
   ]
  },
  {
   "cell_type": "code",
   "execution_count": null,
   "metadata": {},
   "outputs": [],
   "source": [
    "hv.Image(seed)"
   ]
  },
  {
   "cell_type": "code",
   "execution_count": null,
   "metadata": {},
   "outputs": [],
   "source": [
    "import matplotlib.pyplot as plt\n",
    "\n",
    "from skimage import data\n",
    "from skimage.exposure import rescale_intensity\n",
    "\n",
    "image = data.moon()\n",
    "# Rescale image intensity so that we can see dim features.\n",
    "image = rescale_intensity(image, in_range=(50, 200))"
   ]
  },
  {
   "cell_type": "code",
   "execution_count": null,
   "metadata": {},
   "outputs": [],
   "source": [
    "seed"
   ]
  },
  {
   "cell_type": "code",
   "execution_count": null,
   "metadata": {},
   "outputs": [],
   "source": [
    "import numpy as np\n",
    "from skimage.morphology import reconstruction\n",
    "\n",
    "seed = np.copy(image)\n",
    "seed[1:-1, 1:-1] = image.max()\n",
    "mask = image\n",
    "\n",
    "filled = reconstruction(seed, mask, method='erosion')"
   ]
  },
  {
   "cell_type": "code",
   "execution_count": null,
   "metadata": {},
   "outputs": [],
   "source": [
    "hv.Image(filled).opts(clim=(100, 150)) + hv.Image(image) + hv.Image(image - filled)"
   ]
  },
  {
   "cell_type": "code",
   "execution_count": null,
   "metadata": {},
   "outputs": [],
   "source": [
    "hv.extension('bokeh')"
   ]
  },
  {
   "cell_type": "code",
   "execution_count": null,
   "metadata": {},
   "outputs": [],
   "source": [
    "seed = np.copy(image)\n",
    "seed[1:-1, 1:-1] = image.min()\n",
    "rec = reconstruction(seed, mask, method='dilation')\n",
    "\n",
    "fig, ax = plt.subplots(2, 2, figsize=(5, 4), sharex=True, sharey=True)\n",
    "ax = ax.ravel()\n",
    "\n",
    "ax[0].imshow(image, cmap='gray')\n",
    "ax[0].set_title('Original image')\n",
    "ax[0].axis('off')\n",
    "\n",
    "ax[1].imshow(filled, cmap='gray')\n",
    "ax[1].set_title('after filling holes')\n",
    "ax[1].axis('off')\n",
    "\n",
    "ax[2].imshow(image-filled, cmap='gray')\n",
    "ax[2].set_title('holes')\n",
    "ax[2].axis('off')\n",
    "\n",
    "ax[3].imshow(image-rec, cmap='gray')\n",
    "ax[3].set_title('peaks')\n",
    "ax[3].axis('off')\n",
    "plt.show()"
   ]
  },
  {
   "cell_type": "code",
   "execution_count": null,
   "metadata": {},
   "outputs": [],
   "source": [
    "x, y = np.indices((80, 80))\n",
    "x1, y1, x2, y2, x3, y3 = 40, 40, 40, 40, 30, 30\n",
    "r1, r2, r3 = 10, 20, 5\n",
    "mask_circle1 = (x - x1)**2 + (y - y1)**2 < r1**2\n",
    "mask_circle2 = (x - x2)**2 + (y - y2)**2 < r2**2\n",
    "mask_circle3 = (x - x3)**2 + (y - y3)**2 < r3**2\n",
    "image = -30 * mask_circle1 + 5 * mask_circle2 + -10 * mask_circle3\n",
    "\n",
    "hv.Image(image)"
   ]
  },
  {
   "cell_type": "code",
   "execution_count": null,
   "metadata": {},
   "outputs": [],
   "source": [
    "seed = np.copy(image)\n",
    "seed[1:-1, 1:-1] = image.max()\n",
    "mask = image\n",
    "\n",
    "filled = reconstruction(seed, mask, method='erosion')\n",
    "hv.Image(filled)"
   ]
  },
  {
   "cell_type": "code",
   "execution_count": null,
   "metadata": {},
   "outputs": [],
   "source": [
    "ds_ori = xr.open_dataset('/home/wesley/Documents/CEREGE/Data/runoff/PIS120Ma_MofPg4X_TPPallk_differences.nc')\n",
    "ds_jb = xr.open_dataset('/home/wesley/Documents/CEREGE/Data/runoff/Topo.90Ma_test.OK_runoff.nc')\n",
    "vals_jb = ds_jb.topo.values[::-1]"
   ]
  },
  {
   "cell_type": "code",
   "execution_count": null,
   "metadata": {},
   "outputs": [],
   "source": [
    "image = ds_ori.TOPO.values[::-1]\n",
    "seed = np.copy(image)\n",
    "seed[1:-1, 1:-1] = image.max()\n",
    "mask = image\n",
    "\n",
    "filled = reconstruction(seed, mask, method='erosion')"
   ]
  },
  {
   "cell_type": "code",
   "execution_count": null,
   "metadata": {},
   "outputs": [],
   "source": [
    "hv.Image(filled - vals_jb)"
   ]
  },
  {
   "cell_type": "code",
   "execution_count": null,
   "metadata": {},
   "outputs": [],
   "source": [
    "from skimage.morphology import reconstruction\n",
    "import xarray as xr\n",
    "import numpy\n",
    "import holoviews as hv\n",
    "import hvplot.xarray\n",
    "import matplotlib.pyplot as plt"
   ]
  },
  {
   "cell_type": "code",
   "execution_count": null,
   "metadata": {},
   "outputs": [],
   "source": [
    "test = ds.TOPO.values\n",
    "numpy.pad(test, 1, 'minimum')"
   ]
  },
  {
   "cell_type": "code",
   "execution_count": null,
   "metadata": {},
   "outputs": [],
   "source": [
    "ds = xr.open_dataset('/home/wesley/Documents/CEREGE/Data/runoff/PIS120Ma_MofPg4X_TPPallk_differences.nc')\n",
    "ds_jb = xr.open_dataset('/home/wesley/Documents/CEREGE/Data/runoff/Topo.90Ma_test.OK_runoff.nc')"
   ]
  },
  {
   "cell_type": "code",
   "execution_count": null,
   "metadata": {},
   "outputs": [],
   "source": [
    "ds"
   ]
  },
  {
   "cell_type": "code",
   "execution_count": null,
   "metadata": {},
   "outputs": [],
   "source": [
    "def fill_depressions(dem):\n",
    "    padded_dem = numpy.pad(dem, 1, 'minimum')\n",
    "    seed = numpy.copy(padded_dem)\n",
    "    seed[1:-1, 1:-1] = padded_dem.max()\n",
    "\n",
    "    filled = reconstruction(seed, padded_dem, method='erosion')\n",
    "    filled = filled[1:-1, 1:-1]\n",
    "    filled[dem <= 0] = dem[dem <= 0]\n",
    "    return filled\n",
    "\n",
    "def show(arr):\n",
    "    return hv.Image(arr).opts(cmap='terrain', width=600, tools=['hover'], colorbar=True, symmetric=True)"
   ]
  },
  {
   "cell_type": "code",
   "execution_count": null,
   "metadata": {},
   "outputs": [],
   "source": [
    "diffs = fill_depressions(ds.TOPO.values[::-1]) - ds_jb.topo.values[::-1]\n",
    "\n",
    "(show((ds_jb.topo > 0).values[::-1]).opts(\n",
    "    clim=(0,1)\n",
    "    ).relabel('diffs')\n",
    " * show(diffs).opts(\n",
    "     clim=(diffs.min(), diffs.max()),\n",
    "     alpha=0.9\n",
    "     ).relabel('diffs')\n",
    " + show((ds_jb.topo).values[::-1]).relabel('JB').opts(clim=(900, 1200))\n",
    " + show(fill_depressions(ds.TOPO.values[::-1])).relabel('skimage').opts(clim=(900, 1200))\n",
    ").cols(2)"
   ]
  },
  {
   "cell_type": "code",
   "execution_count": null,
   "metadata": {},
   "outputs": [],
   "source": [
    "y = []\n",
    "for i in range(5):\n",
    "    rows_to_ignore = i\n",
    "    y.append(100. * (numpy.abs(diffs[rows_to_ignore:-rows_to_ignore, rows_to_ignore:-rows_to_ignore]) > 1).sum() / float(len(diffs[rows_to_ignore:-rows_to_ignore, rows_to_ignore:-rows_to_ignore].flatten())))\n",
    "\n",
    "plt.plot(list(range(5)), y)"
   ]
  },
  {
   "cell_type": "code",
   "execution_count": null,
   "metadata": {},
   "outputs": [],
   "source": [
    "v = numpy.abs(diffs[1:-1, 1:-1]).flatten()\n",
    "X2 = numpy.sort(v[v > 1])\n",
    "F2 = 100. * numpy.array(range(len(X2)))/float(len(X2))\n",
    "\n",
    "plt.plot(X2,F2)"
   ]
  },
  {
   "cell_type": "code",
   "execution_count": null,
   "metadata": {},
   "outputs": [],
   "source": []
  }
 ],
 "metadata": {
  "kernelspec": {
   "display_name": "Python (python3 pangeo)",
   "language": "python",
   "name": "jupyter"
  },
  "language_info": {
   "codemirror_mode": {
    "name": "ipython",
    "version": 3
   },
   "file_extension": ".py",
   "mimetype": "text/x-python",
   "name": "python",
   "nbconvert_exporter": "python",
   "pygments_lexer": "ipython3",
   "version": "3.8.5"
  }
 },
 "nbformat": 4,
 "nbformat_minor": 4
}
