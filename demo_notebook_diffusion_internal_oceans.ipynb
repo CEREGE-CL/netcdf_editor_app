{
 "cells": [
  {
   "cell_type": "markdown",
   "metadata": {},
   "source": [
    "# Demo Notebook\n",
    "\n",
    "Demo notebook showing how to find internal oceans and diffusive cells"
   ]
  },
  {
   "cell_type": "code",
   "execution_count": null,
   "metadata": {},
   "outputs": [],
   "source": [
    "import xarray as xr\n",
    "import numpy\n",
    "\n",
    "import hvplot.xarray\n",
    "\n",
    "import holoviews as hv\n",
    "\n",
    "from scipy.ndimage import measurements\n",
    "from scipy.signal import convolve2d"
   ]
  },
  {
   "cell_type": "code",
   "execution_count": null,
   "metadata": {},
   "outputs": [],
   "source": [
    "ds = xr.open_dataset(\"/home/wesley/Downloads/ScotMuell30Ma.nc\")\n",
    "ds"
   ]
  },
  {
   "cell_type": "code",
   "execution_count": null,
   "metadata": {},
   "outputs": [],
   "source": [
    "values = ds.ScotMuell31Ma\n",
    "ocean = values < 0\n",
    "ocean.hvplot('lon', 'lat')"
   ]
  },
  {
   "cell_type": "code",
   "execution_count": null,
   "metadata": {},
   "outputs": [],
   "source": [
    "labeled_array, num_features = measurements.label(ocean)\n",
    "\n",
    "# Replace continents with numpy.NaN\n",
    "labeled_array = labeled_array.astype(object)\n",
    "labeled_array[labeled_array==0] = numpy.NaN\n",
    "\n",
    "# Draw\n",
    "hv.Image(labeled_array).opts(tools=['hover'], width = 600).opts(clipping_colors = {'min': 'grey', 'max': 'black'})"
   ]
  },
  {
   "cell_type": "code",
   "execution_count": null,
   "metadata": {},
   "outputs": [],
   "source": [
    "# Define template we are looking for passages\n",
    "# Where only diffusion occurs this means we are looking\n",
    "# for ocean passages one in width/height\n",
    "# 1 => Ocean\n",
    "# -1 => Land\n",
    "# 0 = Indifferent\n",
    "template = numpy.array([[0, 1, 0], \n",
    "                        [-1,1,-1], \n",
    "                        [0, 1, 0]])\n",
    "\n",
    "# Theoretical max value when the template is found\n",
    "# Note that 0s are considered wildcards so they are not taken into\n",
    "# Account \n",
    "#TODO this only works on data arrays where the absolute values are 1\n",
    "perfect_match = numpy.sum(numpy.abs(template))\n",
    "\n",
    "# we recode the values of land to -1 as\n",
    "# we did in the template\n",
    "values = ocean.values.astype(int)\n",
    "values[values == 0] = -1\n",
    "\n",
    "# Create an empty array where we are going to stock the values\n",
    "#TODO This could potentially by a binary array??\n",
    "potential_points = numpy.empty(ocean.values.shape)\n",
    "potential_points[:] = numpy.nan\n",
    "\n",
    "# Mark points where there is only diffusion in longitude direction\n",
    "convolvedh = convolve2d(values, template, 'same')\n",
    "potential_points[convolvedh == perfect_match] = 1\n",
    "\n",
    "# Mark points where there is only diffusion in latitude direction\n",
    "convolvedv = convolve2d(values, template.T, 'same')\n",
    "potential_points[convolvedv == perfect_match] = 1\n",
    "\n",
    "hv.Image(potential_points).opts(tools=['hover'], width=400, clipping_colors={'NaN':'gray'}) + hv.Image(values.reshape(*ocean.values.shape)).opts(width=400, tools=['hover'])"
   ]
  }
 ],
 "metadata": {
  "kernelspec": {
   "display_name": "Python (pangeo)",
   "language": "python",
   "name": "jupyter"
  },
  "language_info": {
   "codemirror_mode": {
    "name": "ipython",
    "version": 3
   },
   "file_extension": ".py",
   "mimetype": "text/x-python",
   "name": "python",
   "nbconvert_exporter": "python",
   "pygments_lexer": "ipython3",
   "version": "3.8.5"
  }
 },
 "nbformat": 4,
 "nbformat_minor": 4
}
