{
 "cells": [
  {
   "cell_type": "code",
   "execution_count": null,
   "metadata": {},
   "outputs": [],
   "source": [
    "import xarray as xr\n",
    "import param\n",
    "\n",
    "import holoviews as hv\n",
    "import hvplot.xarray\n",
    "from holoviews.selection import link_selections\n",
    "\n",
    "import panel as pn\n",
    "\n",
    "import io\n",
    "import os"
   ]
  },
  {
   "cell_type": "code",
   "execution_count": null,
   "metadata": {},
   "outputs": [],
   "source": [
    "class ValueChanger(param.Parameterized):\n",
    "    \n",
    "    calculation_type = pn.widgets.RadioButtonGroup(options=['Absolute', 'Relatif', 'Percentage'], align='end')\n",
    "    save = pn.widgets.FileDownload(label='Save', align='end', button_type='success')\n",
    "    apply = pn.widgets.Button(name='Apply', align='end', button_type='primary')\n",
    "    spinner = pn.widgets.Spinner(name='Replacement Value', value=0, align='end')\n",
    "    attribute = param.String()\n",
    "    file = param.Parameter()\n",
    "    \n",
    "    ds = param.Parameter()\n",
    "    selection = link_selections.instance(unselected_alpha=0.4)\n",
    "    \n",
    "    app_pane = pn.Column()\n",
    "    \n",
    "    def __init__(self, **params):\n",
    "        self.param.file.default = pn.widgets.FileInput()\n",
    "        self.param.ds.default = xr.Dataset()\n",
    "        self.param.attribute.default = pn.widgets.Select(max_width=200, align='start')\n",
    "        super().__init__(**params)\n",
    "        self.apply.on_click(self._apply_values)\n",
    "        self.save.callback = self._save\n",
    "        \n",
    "    @pn.depends(\"file.value\", watch=True)\n",
    "    def _parse_file_input(self):\n",
    "        value = self.file.value\n",
    "        ds = xr.open_dataset(value)\n",
    "        self.attribute.options = list(ds.keys())\n",
    "        self.ds = ds\n",
    "        \n",
    "    def _set_values(self):\n",
    "        hvds = hv.Dataset(self.ds.to_dataframe().reset_index())\n",
    "        if self.calculation_type.value == 'Absolute':\n",
    "            hvds.data[self.attribute.value].loc[hvds.select(self.selection.selection_expr).data.index] = self.spinner.value\n",
    "        elif self.calculation_type.value == 'Relatif':\n",
    "            hvds.data[self.attribute.value].loc[hvds.select(self.selection.selection_expr).data.index] += self.spinner.value\n",
    "        elif self.calculation_type.value == 'Percentage':\n",
    "            hvds.data[self.attribute.value].loc[hvds.select(self.selection.selection_expr).data.index] *=  (100 + self.spinner.value) / 100.\n",
    "        self.ds[self.attribute.value] = list(self.ds.coords.keys()), hvds.data[self.attribute.value].values.reshape(*self.ds[self.attribute.value].shape)\n",
    "        \n",
    "    def _save(self):\n",
    "        filename, extension = os.path.splitext(self.file.filename) \n",
    "        self.save.filename = filename + \"_netcdf-editor\" + extension\n",
    "        return io.BytesIO(self.ds.to_netcdf())\n",
    "    \n",
    "    def _apply_values(self, event):\n",
    "        self._set_values()\n",
    "        self.selection.selection_expr = None\n",
    "    \n",
    "    @pn.depends('ds', watch=True)\n",
    "    def get_plots(self):\n",
    "        self.app_pane.clear()\n",
    "        self.app_pane.extend([\n",
    "            pn.Row(self.attribute, self.save),\n",
    "            pn.Row(self.calculation_type, self.spinner, self.apply), \n",
    "            self.selection(self.ds.hvplot() + self.ds[self.attribute.value].hvplot.hist()).opts(hv.opts.Image(tools=['hover']), hv.opts.Histogram(tools=['hover']))\n",
    "        ])\n",
    "    \n",
    "    def plot(self):\n",
    "        return pn.Column(\n",
    "            self.file,\n",
    "            self.app_pane\n",
    "        )"
   ]
  },
  {
   "cell_type": "code",
   "execution_count": null,
   "metadata": {},
   "outputs": [],
   "source": [
    "vc = ValueChanger()\n",
    "vc.plot().servable()"
   ]
  }
 ],
 "metadata": {
  "kernelspec": {
   "display_name": "Python (pangeo)",
   "language": "python",
   "name": "jupyter"
  },
  "language_info": {
   "codemirror_mode": {
    "name": "ipython",
    "version": 3
   },
   "file_extension": ".py",
   "mimetype": "text/x-python",
   "name": "python",
   "nbconvert_exporter": "python",
   "pygments_lexer": "ipython3",
   "version": "3.8.5"
  }
 },
 "nbformat": 4,
 "nbformat_minor": 4
}
